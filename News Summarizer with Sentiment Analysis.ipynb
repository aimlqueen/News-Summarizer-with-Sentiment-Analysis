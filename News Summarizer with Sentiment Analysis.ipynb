{
 "cells": [
  {
   "cell_type": "markdown",
   "id": "f5480ef7-8d8a-4264-9a62-ada1efccc656",
   "metadata": {},
   "source": [
    "Created By Nimisha Davis\n",
    "Visit : https://www.youtube.com/@aimlqueen/"
   ]
  },
  {
   "cell_type": "code",
   "execution_count": 8,
   "id": "890313f3-2804-43d6-bb7a-d8f105c82aac",
   "metadata": {},
   "outputs": [
    {
     "name": "stdout",
     "output_type": "stream",
     "text": [
      "Requirement already satisfied: nltk in c:\\users\\drnim\\anaconda3\\lib\\site-packages (3.8.1)Note: you may need to restart the kernel to use updated packages.\n",
      "\n",
      "Requirement already satisfied: click in c:\\users\\drnim\\anaconda3\\lib\\site-packages (from nltk) (8.1.7)\n",
      "Requirement already satisfied: joblib in c:\\users\\drnim\\anaconda3\\lib\\site-packages (from nltk) (1.4.2)\n",
      "Requirement already satisfied: regex>=2021.8.3 in c:\\users\\drnim\\anaconda3\\lib\\site-packages (from nltk) (2023.10.3)\n",
      "Requirement already satisfied: tqdm in c:\\users\\drnim\\anaconda3\\lib\\site-packages (from nltk) (4.66.4)\n",
      "Requirement already satisfied: colorama in c:\\users\\drnim\\anaconda3\\lib\\site-packages (from click->nltk) (0.4.6)\n"
     ]
    }
   ],
   "source": [
    "pip install nltk"
   ]
  },
  {
   "cell_type": "code",
   "execution_count": 9,
   "id": "8a031a0e-4264-4c8a-9654-6d6b06c97a33",
   "metadata": {},
   "outputs": [
    {
     "name": "stdout",
     "output_type": "stream",
     "text": [
      "Collecting textblobNote: you may need to restart the kernel to use updated packages.\n",
      "\n",
      "  Downloading textblob-0.18.0.post0-py3-none-any.whl.metadata (4.5 kB)\n",
      "Requirement already satisfied: nltk>=3.8 in c:\\users\\drnim\\anaconda3\\lib\\site-packages (from textblob) (3.8.1)\n",
      "Requirement already satisfied: click in c:\\users\\drnim\\anaconda3\\lib\\site-packages (from nltk>=3.8->textblob) (8.1.7)\n",
      "Requirement already satisfied: joblib in c:\\users\\drnim\\anaconda3\\lib\\site-packages (from nltk>=3.8->textblob) (1.4.2)\n",
      "Requirement already satisfied: regex>=2021.8.3 in c:\\users\\drnim\\anaconda3\\lib\\site-packages (from nltk>=3.8->textblob) (2023.10.3)\n",
      "Requirement already satisfied: tqdm in c:\\users\\drnim\\anaconda3\\lib\\site-packages (from nltk>=3.8->textblob) (4.66.4)\n",
      "Requirement already satisfied: colorama in c:\\users\\drnim\\anaconda3\\lib\\site-packages (from click->nltk>=3.8->textblob) (0.4.6)\n",
      "Downloading textblob-0.18.0.post0-py3-none-any.whl (626 kB)\n",
      "   ---------------------------------------- 0.0/626.3 kB ? eta -:--:--\n",
      "   - -------------------------------------- 30.7/626.3 kB ? eta -:--:--\n",
      "   --- ----------------------------------- 61.4/626.3 kB 656.4 kB/s eta 0:00:01\n",
      "   ------ ------------------------------- 102.4/626.3 kB 737.3 kB/s eta 0:00:01\n",
      "   -------- ----------------------------- 143.4/626.3 kB 778.5 kB/s eta 0:00:01\n",
      "   ----------- -------------------------- 194.6/626.3 kB 845.5 kB/s eta 0:00:01\n",
      "   -------------- ----------------------- 245.8/626.3 kB 888.8 kB/s eta 0:00:01\n",
      "   --------------- ---------------------- 256.0/626.3 kB 874.6 kB/s eta 0:00:01\n",
      "   ------------------- ------------------ 327.7/626.3 kB 967.8 kB/s eta 0:00:01\n",
      "   -------------------- ----------------- 337.9/626.3 kB 807.1 kB/s eta 0:00:01\n",
      "   ----------------------- -------------- 389.1/626.3 kB 867.0 kB/s eta 0:00:01\n",
      "   ------------------------ ------------- 409.6/626.3 kB 881.6 kB/s eta 0:00:01\n",
      "   ---------------------------- --------- 471.0/626.3 kB 844.0 kB/s eta 0:00:01\n",
      "   ------------------------------- ------ 522.2/626.3 kB 885.8 kB/s eta 0:00:01\n",
      "   --------------------------------- ---- 553.0/626.3 kB 891.2 kB/s eta 0:00:01\n",
      "   ----------------------------------- -- 583.7/626.3 kB 854.6 kB/s eta 0:00:01\n",
      "   ------------------------------------ - 604.2/626.3 kB 827.2 kB/s eta 0:00:01\n",
      "   -------------------------------------  624.6/626.3 kB 819.2 kB/s eta 0:00:01\n",
      "   -------------------------------------  624.6/626.3 kB 819.2 kB/s eta 0:00:01\n",
      "   -------------------------------------- 626.3/626.3 kB 717.2 kB/s eta 0:00:00\n",
      "Installing collected packages: textblob\n",
      "Successfully installed textblob-0.18.0.post0\n"
     ]
    }
   ],
   "source": [
    "pip install textblob"
   ]
  },
  {
   "cell_type": "code",
   "execution_count": 18,
   "id": "eea4110b-45b4-4eec-b5ed-73dad589bf21",
   "metadata": {},
   "outputs": [
    {
     "name": "stdout",
     "output_type": "stream",
     "text": [
      "Requirement already satisfied: newspaper3k in c:\\users\\drnim\\anaconda3\\lib\\site-packages (0.2.8)Note: you may need to restart the kernel to use updated packages.\n",
      "\n",
      "Requirement already satisfied: beautifulsoup4>=4.4.1 in c:\\users\\drnim\\anaconda3\\lib\\site-packages (from newspaper3k) (4.12.3)\n",
      "Requirement already satisfied: Pillow>=3.3.0 in c:\\users\\drnim\\anaconda3\\lib\\site-packages (from newspaper3k) (10.3.0)\n",
      "Requirement already satisfied: PyYAML>=3.11 in c:\\users\\drnim\\anaconda3\\lib\\site-packages (from newspaper3k) (6.0.1)\n",
      "Requirement already satisfied: cssselect>=0.9.2 in c:\\users\\drnim\\anaconda3\\lib\\site-packages (from newspaper3k) (1.2.0)\n",
      "Requirement already satisfied: lxml>=3.6.0 in c:\\users\\drnim\\anaconda3\\lib\\site-packages (from newspaper3k) (5.2.1)\n",
      "Requirement already satisfied: nltk>=3.2.1 in c:\\users\\drnim\\anaconda3\\lib\\site-packages (from newspaper3k) (3.8.1)\n",
      "Requirement already satisfied: requests>=2.10.0 in c:\\users\\drnim\\anaconda3\\lib\\site-packages (from newspaper3k) (2.32.2)\n",
      "Requirement already satisfied: feedparser>=5.2.1 in c:\\users\\drnim\\anaconda3\\lib\\site-packages (from newspaper3k) (6.0.11)\n",
      "Requirement already satisfied: tldextract>=2.0.1 in c:\\users\\drnim\\anaconda3\\lib\\site-packages (from newspaper3k) (3.2.0)\n",
      "Requirement already satisfied: feedfinder2>=0.0.4 in c:\\users\\drnim\\anaconda3\\lib\\site-packages (from newspaper3k) (0.0.4)\n",
      "Requirement already satisfied: jieba3k>=0.35.1 in c:\\users\\drnim\\anaconda3\\lib\\site-packages (from newspaper3k) (0.35.1)\n",
      "Requirement already satisfied: python-dateutil>=2.5.3 in c:\\users\\drnim\\anaconda3\\lib\\site-packages (from newspaper3k) (2.9.0.post0)\n",
      "Requirement already satisfied: tinysegmenter==0.3 in c:\\users\\drnim\\anaconda3\\lib\\site-packages (from newspaper3k) (0.3)\n",
      "Requirement already satisfied: soupsieve>1.2 in c:\\users\\drnim\\anaconda3\\lib\\site-packages (from beautifulsoup4>=4.4.1->newspaper3k) (2.5)\n",
      "Requirement already satisfied: six in c:\\users\\drnim\\anaconda3\\lib\\site-packages (from feedfinder2>=0.0.4->newspaper3k) (1.16.0)\n",
      "Requirement already satisfied: sgmllib3k in c:\\users\\drnim\\anaconda3\\lib\\site-packages (from feedparser>=5.2.1->newspaper3k) (1.0.0)\n",
      "Requirement already satisfied: click in c:\\users\\drnim\\anaconda3\\lib\\site-packages (from nltk>=3.2.1->newspaper3k) (8.1.7)\n",
      "Requirement already satisfied: joblib in c:\\users\\drnim\\anaconda3\\lib\\site-packages (from nltk>=3.2.1->newspaper3k) (1.4.2)\n",
      "Requirement already satisfied: regex>=2021.8.3 in c:\\users\\drnim\\anaconda3\\lib\\site-packages (from nltk>=3.2.1->newspaper3k) (2023.10.3)\n",
      "Requirement already satisfied: tqdm in c:\\users\\drnim\\anaconda3\\lib\\site-packages (from nltk>=3.2.1->newspaper3k) (4.66.4)\n",
      "Requirement already satisfied: charset-normalizer<4,>=2 in c:\\users\\drnim\\anaconda3\\lib\\site-packages (from requests>=2.10.0->newspaper3k) (2.0.4)\n",
      "Requirement already satisfied: idna<4,>=2.5 in c:\\users\\drnim\\anaconda3\\lib\\site-packages (from requests>=2.10.0->newspaper3k) (3.7)\n",
      "Requirement already satisfied: urllib3<3,>=1.21.1 in c:\\users\\drnim\\anaconda3\\lib\\site-packages (from requests>=2.10.0->newspaper3k) (2.2.2)\n",
      "Requirement already satisfied: certifi>=2017.4.17 in c:\\users\\drnim\\anaconda3\\lib\\site-packages (from requests>=2.10.0->newspaper3k) (2024.7.4)\n",
      "Requirement already satisfied: requests-file>=1.4 in c:\\users\\drnim\\anaconda3\\lib\\site-packages (from tldextract>=2.0.1->newspaper3k) (1.5.1)\n",
      "Requirement already satisfied: filelock>=3.0.8 in c:\\users\\drnim\\anaconda3\\lib\\site-packages (from tldextract>=2.0.1->newspaper3k) (3.13.1)\n",
      "Requirement already satisfied: colorama in c:\\users\\drnim\\anaconda3\\lib\\site-packages (from click->nltk>=3.2.1->newspaper3k) (0.4.6)\n"
     ]
    }
   ],
   "source": [
    "pip install newspaper3k"
   ]
  },
  {
   "cell_type": "code",
   "execution_count": 26,
   "id": "716f187f-57ff-4dcb-ba24-dbc688f54b1b",
   "metadata": {},
   "outputs": [
    {
     "name": "stdout",
     "output_type": "stream",
     "text": [
      "Collecting lxml_html_clean\n",
      "  Downloading lxml_html_clean-0.3.1-py3-none-any.whl.metadata (2.4 kB)\n",
      "Requirement already satisfied: lxml in c:\\users\\drnim\\anaconda3\\lib\\site-packages (from lxml_html_clean) (5.2.1)\n",
      "Downloading lxml_html_clean-0.3.1-py3-none-any.whl (13 kB)\n",
      "Installing collected packages: lxml_html_clean\n",
      "Successfully installed lxml_html_clean-0.3.1\n",
      "Note: you may need to restart the kernel to use updated packages.\n"
     ]
    }
   ],
   "source": [
    "pip install lxml_html_clean"
   ]
  },
  {
   "cell_type": "code",
   "execution_count": 27,
   "id": "0c80850f-2851-450b-92c3-ed7fb59148a6",
   "metadata": {},
   "outputs": [],
   "source": [
    "import tkinter as tk\n",
    "import nltk\n",
    "from textblob import TextBlob\n",
    "from newspaper import Article\n"
   ]
  },
  {
   "cell_type": "code",
   "execution_count": 28,
   "id": "d88658ce-daf9-4134-b5fb-553477b8631a",
   "metadata": {},
   "outputs": [],
   "source": [
    "from newspaper import Article\n",
    "from textblob import TextBlob\n",
    "\n",
    "def summarize():\n",
    "    url = utext.get('1.0', 'end').strip()\n",
    "    article = Article(url)\n",
    "    article.download()\n",
    "    article.parse()\n",
    "    article.nlp()\n",
    "\n",
    "    title.config(state='normal')\n",
    "    author.config(state='normal')\n",
    "    publication.config(state='normal')\n",
    "    summary.config(state='normal')\n",
    "    sentiment.config(state='normal')\n",
    "\n",
    "    # Clear previous text\n",
    "    title.delete('1.0', 'end')\n",
    "    title.insert('1.0', article.title)\n",
    "\n",
    "    author.delete('1.0', 'end')\n",
    "    author.insert('1.0', ', '.join(article.authors))  # Join authors if there are multiple\n",
    "\n",
    "    # Check if publication date is available\n",
    "    if article.publish_date:\n",
    "        publication.delete('1.0', 'end')\n",
    "        publication.insert('1.0', str(article.publish_date))  # Ensure it's a string\n",
    "    else:\n",
    "        publication.delete('1.0', 'end')\n",
    "        publication.insert('1.0', \"Date not available\")  # Fallback if no date is found\n",
    "\n",
    "    summary.delete('1.0', 'end')\n",
    "    summary.insert('1.0', article.summary)\n",
    "\n",
    "    # Sentimental analysis\n",
    "    analysis = TextBlob(article.text)\n",
    "    sentiment.delete('1.0', 'end')\n",
    "    \n",
    "    # Sentiment analysis output\n",
    "    sentiment.insert('1.0', f'Polarity: {analysis.polarity}, Sentiment: {\"positive\" if analysis.polarity > 0 else \"negative\" if analysis.polarity < 0 else \"neutral\"}')\n",
    "\n",
    "    # Disable the text fields after summarizing\n",
    "    title.config(state='disabled')\n",
    "    author.config(state='disabled')\n",
    "    publication.config(state='disabled')\n",
    "    summary.config(state='disabled')\n",
    "    sentiment.config(state='disabled')\n"
   ]
  },
  {
   "cell_type": "code",
   "execution_count": 29,
   "id": "e8d05af9-78a2-416b-8fdd-12f07d1543a1",
   "metadata": {},
   "outputs": [],
   "source": [
    "# summarization\n",
    "# nltk.download('punkt')\n",
    "# url='https://www.news18.com/tech/elon-musks-ai-startup-brings-image-understanding-feature-in-grok-ai-know-mor-9103313.html'\n",
    "# article=Article(url)\n",
    "# article.download()\n",
    "# article.parse()\n",
    "# article.nlp()\n",
    "# print(f'title:{article.title}')\n",
    "# print(f'Authors:{article.authors}')\n",
    "# print(f'Publication date:{article.publish_date}')\n",
    "# print(f'Summary:{article.summary}')\n"
   ]
  },
  {
   "cell_type": "code",
   "execution_count": 30,
   "id": "dc373c9e-abd8-412e-88b0-a9cc4d29c80c",
   "metadata": {},
   "outputs": [],
   "source": [
    "# #sentimental analysis\n",
    "# analysis= TextBlob(article.text)\n",
    "# # analysis= TextBlob(\"today i'm sad and cry\")\n",
    "# print(analysis.polarity)\n",
    "# # print(analysis.sentiment)\n",
    "# print(f'sentiment:{\"positive\" if analysis.polarity > 0 else \"negative\" if analysis.polarity < 0 else \"neutral\" }')"
   ]
  },
  {
   "cell_type": "code",
   "execution_count": 31,
   "id": "425cf03a-c918-45b5-a8c8-13e26e33f7a4",
   "metadata": {},
   "outputs": [],
   "source": [
    "# Graphical User Interface \n",
    "root = tk.Tk()\n",
    "root.title(\"News Summarizer\")\n",
    "root.geometry('1200x600')\n",
    "\n",
    "# Labels and Text Fields\n",
    "tlabel = tk.Label(root, text=\"Title\")\n",
    "tlabel.pack()\n",
    "\n",
    "title = tk.Text(root, height=1, width=140)\n",
    "title.config(state='disabled', bg='#dddddd')\n",
    "title.pack()\n",
    "\n",
    "alabel = tk.Label(root, text=\"Author\")\n",
    "alabel.pack()\n",
    "\n",
    "author = tk.Text(root, height=1, width=140)\n",
    "author.config(state='disabled', bg='#dddddd')\n",
    "author.pack()\n",
    "\n",
    "plabel = tk.Label(root, text=\"Publishing Date\")\n",
    "plabel.pack()\n",
    "\n",
    "publication = tk.Text(root, height=1, width=140)\n",
    "publication.config(state='disabled', bg='#dddddd')\n",
    "publication.pack()\n",
    "\n",
    "slabel = tk.Label(root, text=\"Summary\")\n",
    "slabel.pack()\n",
    "\n",
    "summary = tk.Text(root, height=20, width=140)\n",
    "summary.config(state='disabled', bg='#dddddd')\n",
    "summary.pack()\n",
    "\n",
    "selabel = tk.Label(root, text=\"Sentiment Analysis\")\n",
    "selabel.pack()\n",
    "\n",
    "sentiment = tk.Text(root, height=1, width=140)\n",
    "sentiment.config(state='disabled', bg='#dddddd')\n",
    "sentiment.pack()\n",
    "\n",
    "ulabel = tk.Label(root, text=\"URL\")\n",
    "ulabel.pack()\n",
    "\n",
    "utext = tk.Text(root, height=1, width=140)\n",
    "utext.pack()\n",
    "\n",
    "btn = tk.Button(root, text=\"Summarize\", command=summarize)\n",
    "btn.pack()\n",
    "\n",
    "root.mainloop()"
   ]
  }
 ],
 "metadata": {
  "kernelspec": {
   "display_name": "Python 3 (ipykernel)",
   "language": "python",
   "name": "python3"
  },
  "language_info": {
   "codemirror_mode": {
    "name": "ipython",
    "version": 3
   },
   "file_extension": ".py",
   "mimetype": "text/x-python",
   "name": "python",
   "nbconvert_exporter": "python",
   "pygments_lexer": "ipython3",
   "version": "3.12.4"
  }
 },
 "nbformat": 4,
 "nbformat_minor": 5
}
